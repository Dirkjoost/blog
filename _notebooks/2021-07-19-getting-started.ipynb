{
 "cells": [
  {
   "cell_type": "markdown",
   "id": "42d01504",
   "metadata": {},
   "source": [
    "# My first blogpost"
   ]
  },
  {
   "cell_type": "markdown",
   "id": "0378ffa6",
   "metadata": {},
   "source": [
    "This is the first blogpost I am creating. I will just try-out the way to do it through fastpages (Fastai) and Github. I have been learning about deep learning through Fastai. It is very interested to see what can or cannot be done throught deep learning and how to find the data you can use."
   ]
  },
  {
   "cell_type": "markdown",
   "id": "5e4d0963",
   "metadata": {},
   "source": [
    "In paralell I am learning about how to give a better understanding in global warming and what we can do about it together with climateinteractive.org. And to correct some stuff on a project."
   ]
  },
  {
   "cell_type": "code",
   "execution_count": null,
   "id": "f361442a",
   "metadata": {},
   "outputs": [],
   "source": []
  }
 ],
 "metadata": {
  "kernelspec": {
   "display_name": "Python 3",
   "language": "python",
   "name": "python3"
  },
  "language_info": {
   "codemirror_mode": {
    "name": "ipython",
    "version": 3
   },
   "file_extension": ".py",
   "mimetype": "text/x-python",
   "name": "python",
   "nbconvert_exporter": "python",
   "pygments_lexer": "ipython3",
   "version": "3.8.8"
  }
 },
 "nbformat": 4,
 "nbformat_minor": 5
}
